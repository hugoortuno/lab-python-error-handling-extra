{
 "cells": [
  {
   "cell_type": "markdown",
   "id": "25d7736c-ba17-4aff-b6bb-66eba20fbf4e",
   "metadata": {},
   "source": [
    "# Lab | Error Handling"
   ]
  },
  {
   "cell_type": "markdown",
   "id": "6f8e446f-16b4-4e21-92e7-9d3d1eb551b6",
   "metadata": {},
   "source": [
    "Objective: Practice how to identify, handle and recover from potential errors in Python code using try-except blocks."
   ]
  },
  {
   "cell_type": "markdown",
   "id": "e253e768-aed8-4791-a800-87add1204afa",
   "metadata": {},
   "source": [
    "## Challenge \n",
    "\n",
    "Paste here your lab *functions* solutions. Apply error handling techniques to each function using try-except blocks. "
   ]
  },
  {
   "cell_type": "markdown",
   "id": "9180ff86-c3fe-4152-a609-081a287fa1af",
   "metadata": {},
   "source": [
    "The try-except block in Python is designed to handle exceptions and provide a fallback mechanism when code encounters errors. By enclosing the code that could potentially throw errors in a try block, followed by specific or general exception handling in the except block, we can gracefully recover from errors and continue program execution.\n",
    "\n",
    "However, there may be cases where an input may not produce an immediate error, but still needs to be addressed. In such situations, it can be useful to explicitly raise an error using the \"raise\" keyword, either to draw attention to the issue or handle it elsewhere in the program.\n",
    "\n",
    "Modify the code to handle possible errors in Python, it is recommended to use `try-except-else-finally` blocks, incorporate the `raise` keyword where necessary, and print meaningful error messages to alert users of any issues that may occur during program execution.\n",
    "\n"
   ]
  },
  {
   "cell_type": "code",
   "execution_count": 1,
   "id": "cc2c441d-9dcf-4817-b097-cf6cbe440846",
   "metadata": {},
   "outputs": [
    {
     "name": "stdout",
     "output_type": "stream",
     "text": [
      "Code executed successfully.\n",
      "Clean-up code executed.\n"
     ]
    }
   ],
   "source": [
    "# your code goes here\n",
    "\n",
    "try:\n",
    "    # Code that might raise an exception\n",
    "    pass\n",
    "except SpecificException as e:\n",
    "    # Handle a specific exception\n",
    "    print(f\"An error occurred: {e}\")\n",
    "except AnotherSpecificException as e:\n",
    "    # Handle another specific exception\n",
    "    print(f\"Another error occurred: {e}\")\n",
    "except Exception as e:\n",
    "    # Handle any other exception\n",
    "    print(f\"An unexpected error occurred: {e}\")\n",
    "else:\n",
    "    # Code that runs if no exceptions occur\n",
    "    print(\"Code executed successfully.\")\n",
    "finally:\n",
    "    # Code that always runs, regardless of whether an exception occurred\n",
    "    print(\"Clean-up code executed.\")\n"
   ]
  },
  {
   "cell_type": "code",
   "execution_count": 2,
   "id": "100b476c",
   "metadata": {},
   "outputs": [],
   "source": [
    "def validate_input(value):\n",
    "    if not isinstance(value, int):\n",
    "        raise ValueError(\"The input must be an integer.\")\n",
    "    if value < 0:\n",
    "        raise ValueError(\"The input must be a non-negative integer.\")\n",
    "\n",
    "try:\n",
    "    value = int(input(\"Enter a non-negative integer: \"))\n",
    "    validate_input(value)\n",
    "except ValueError as e:\n",
    "    print(f\"Invalid input: {e}\")\n",
    "else:\n",
    "    print(f\"Valid input: {value}\")\n",
    "finally:\n",
    "    print(\"Input validation complete.\")\n"
   ]
  },
  {
   "cell_type": "code",
   "execution_count": 1,
   "id": "4e5b81e5",
   "metadata": {},
   "outputs": [
    {
     "name": "stdout",
     "output_type": "stream",
     "text": [
      "Error: The file 'example.txt' does not exist.\n",
      "Finished attempting to read the file.\n"
     ]
    }
   ],
   "source": [
    "def read_file(filename):\n",
    "    try:\n",
    "        with open(filename, 'r') as file:\n",
    "            data = file.read()\n",
    "    except FileNotFoundError:\n",
    "        print(f\"Error: The file '{filename}' does not exist.\")\n",
    "    except IOError:\n",
    "        print(f\"Error: An I/O error occurred while reading '{filename}'.\")\n",
    "    else:\n",
    "        print(\"File read successfully.\")\n",
    "        return data\n",
    "    finally:\n",
    "        print(\"Finished attempting to read the file.\")\n",
    "\n",
    "# Example usage\n",
    "filename = 'example.txt'\n",
    "file_contents = read_file(filename)\n",
    "if file_contents:\n",
    "    print(file_contents)\n"
   ]
  },
  {
   "cell_type": "code",
   "execution_count": 2,
   "id": "7501049e",
   "metadata": {},
   "outputs": [
    {
     "name": "stdout",
     "output_type": "stream",
     "text": [
      "The result is: 5.0\n",
      "Division operation complete.\n",
      "Error: Division by zero is not allowed.\n",
      "Division operation complete.\n",
      "Error: Both arguments must be numbers.\n",
      "Division operation complete.\n"
     ]
    }
   ],
   "source": [
    "def divide_numbers(num1, num2):\n",
    "    try:\n",
    "        result = num1 / num2\n",
    "    except ZeroDivisionError:\n",
    "        print(\"Error: Division by zero is not allowed.\")\n",
    "    except TypeError:\n",
    "        print(\"Error: Both arguments must be numbers.\")\n",
    "    else:\n",
    "        print(f\"The result is: {result}\")\n",
    "    finally:\n",
    "        print(\"Division operation complete.\")\n",
    "\n",
    "# Example usage\n",
    "divide_numbers(10, 2)  # Valid operation\n",
    "divide_numbers(10, 0)  # Division by zero\n",
    "divide_numbers(10, 'a')  # Type error\n"
   ]
  },
  {
   "cell_type": "code",
   "execution_count": 3,
   "id": "b791f23f",
   "metadata": {},
   "outputs": [
    {
     "name": "stdout",
     "output_type": "stream",
     "text": [
      "Custom error occurred: Data cannot be empty.\n",
      "Data processing attempt complete.\n"
     ]
    }
   ],
   "source": [
    "class CustomError(Exception):\n",
    "    def __init__(self, message):\n",
    "        self.message = message\n",
    "        super().__init__(self.message)\n",
    "\n",
    "def process_data(data):\n",
    "    if not data:\n",
    "        raise CustomError(\"Data cannot be empty.\")\n",
    "    print(\"Processing data:\", data)\n",
    "\n",
    "try:\n",
    "    process_data(\"\")\n",
    "except CustomError as e:\n",
    "    print(f\"Custom error occurred: {e}\")\n",
    "else:\n",
    "    print(\"Data processed successfully.\")\n",
    "finally:\n",
    "    print(\"Data processing attempt complete.\")\n"
   ]
  }
 ],
 "metadata": {
  "kernelspec": {
   "display_name": "Python 3 (ipykernel)",
   "language": "python",
   "name": "python3"
  },
  "language_info": {
   "codemirror_mode": {
    "name": "ipython",
    "version": 3
   },
   "file_extension": ".py",
   "mimetype": "text/x-python",
   "name": "python",
   "nbconvert_exporter": "python",
   "pygments_lexer": "ipython3",
   "version": "3.12.4"
  }
 },
 "nbformat": 4,
 "nbformat_minor": 5
}
